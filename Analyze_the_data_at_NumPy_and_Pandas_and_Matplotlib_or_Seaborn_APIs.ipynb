{
  "nbformat": 4,
  "nbformat_minor": 0,
  "metadata": {
    "colab": {
      "name": "Analyze the data at NumPy and Pandas and Matplotlib or Seaborn APIs.ipynb",
      "provenance": [],
      "collapsed_sections": [],
      "authorship_tag": "ABX9TyN7W1Hk4LlZzqzjMFQhzAzx"
    },
    "kernelspec": {
      "name": "python3",
      "display_name": "Python 3"
    },
    "language_info": {
      "name": "python"
    }
  },
  "cells": [
    {
      "cell_type": "code",
      "metadata": {
        "id": "bltkBMDK5D2w",
        "colab": {
          "base_uri": "https://localhost:8080/"
        },
        "outputId": "088d6f61-a1d3-47ab-f1dd-d4a4870a0a11"
      },
      "source": [
        "import numpy as np\n",
        "import pandas as pd\n",
        "import matplotlib as mpl\n",
        "import seaborn as sb\n",
        "df1 = pd.read_csv(\"https://storage.googleapis.com/files.mobibootcamp.com/2021-datasets/AH_Provisional_Diabetes_Death_Counts_for_2020.csv\")\n",
        "df1.info()"
      ],
      "execution_count": null,
      "outputs": [
        {
          "output_type": "stream",
          "name": "stdout",
          "text": [
            "<class 'pandas.core.frame.DataFrame'>\n",
            "RangeIndex: 226 entries, 0 to 225\n",
            "Data columns (total 16 columns):\n",
            " #   Column                                  Non-Null Count  Dtype \n",
            "---  ------                                  --------------  ----- \n",
            " 0   Data as of                              226 non-null    object\n",
            " 1   Date_Of_Death_Year                      226 non-null    int64 \n",
            " 2   Date_Of_Death_Month                     226 non-null    int64 \n",
            " 3   AgeGroup                                225 non-null    object\n",
            " 4   Sex                                     226 non-null    object\n",
            " 5   COVID19                                 226 non-null    int64 \n",
            " 6   Diabetes.uc                             226 non-null    int64 \n",
            " 7   Diabetes.mc                             226 non-null    int64 \n",
            " 8   C19PlusDiabetes                         226 non-null    int64 \n",
            " 9   C19PlusHypertensiveDiseases             226 non-null    int64 \n",
            " 10  C19PlusMajorCardiovascularDiseases      226 non-null    int64 \n",
            " 11  C19PlusHypertensiveDiseasesAndMCVD      226 non-null    int64 \n",
            " 12  C19PlusChronicLowerRespiratoryDisease   226 non-null    int64 \n",
            " 13  C19PlusKidneyDisease                    226 non-null    int64 \n",
            " 14  C19PlusChronicLiverDiseaseAndCirrhosis  226 non-null    int64 \n",
            " 15  C19PlusObesity                          226 non-null    int64 \n",
            "dtypes: int64(13), object(3)\n",
            "memory usage: 28.4+ KB\n"
          ]
        }
      ]
    },
    {
      "cell_type": "code",
      "metadata": {
        "id": "Idvsgbt35J6V",
        "colab": {
          "base_uri": "https://localhost:8080/",
          "height": 1000
        },
        "outputId": "14d2f699-728c-4fcb-c64f-3edb29b34334"
      },
      "source": [
        "df1.describe()\n",
        "df1.head(30)"
      ],
      "execution_count": null,
      "outputs": [
        {
          "output_type": "execute_result",
          "data": {
            "text/html": [
              "<div>\n",
              "<style scoped>\n",
              "    .dataframe tbody tr th:only-of-type {\n",
              "        vertical-align: middle;\n",
              "    }\n",
              "\n",
              "    .dataframe tbody tr th {\n",
              "        vertical-align: top;\n",
              "    }\n",
              "\n",
              "    .dataframe thead th {\n",
              "        text-align: right;\n",
              "    }\n",
              "</style>\n",
              "<table border=\"1\" class=\"dataframe\">\n",
              "  <thead>\n",
              "    <tr style=\"text-align: right;\">\n",
              "      <th></th>\n",
              "      <th>Data as of</th>\n",
              "      <th>Date_Of_Death_Year</th>\n",
              "      <th>Date_Of_Death_Month</th>\n",
              "      <th>AgeGroup</th>\n",
              "      <th>Sex</th>\n",
              "      <th>COVID19</th>\n",
              "      <th>Diabetes.uc</th>\n",
              "      <th>Diabetes.mc</th>\n",
              "      <th>C19PlusDiabetes</th>\n",
              "      <th>C19PlusHypertensiveDiseases</th>\n",
              "      <th>C19PlusMajorCardiovascularDiseases</th>\n",
              "      <th>C19PlusHypertensiveDiseasesAndMCVD</th>\n",
              "      <th>C19PlusChronicLowerRespiratoryDisease</th>\n",
              "      <th>C19PlusKidneyDisease</th>\n",
              "      <th>C19PlusChronicLiverDiseaseAndCirrhosis</th>\n",
              "      <th>C19PlusObesity</th>\n",
              "    </tr>\n",
              "  </thead>\n",
              "  <tbody>\n",
              "    <tr>\n",
              "      <th>0</th>\n",
              "      <td>10/20/2020</td>\n",
              "      <td>2020</td>\n",
              "      <td>1</td>\n",
              "      <td>&lt;18 years</td>\n",
              "      <td>Female (F)</td>\n",
              "      <td>0</td>\n",
              "      <td>3</td>\n",
              "      <td>5</td>\n",
              "      <td>0</td>\n",
              "      <td>0</td>\n",
              "      <td>0</td>\n",
              "      <td>0</td>\n",
              "      <td>0</td>\n",
              "      <td>0</td>\n",
              "      <td>0</td>\n",
              "      <td>0</td>\n",
              "    </tr>\n",
              "    <tr>\n",
              "      <th>1</th>\n",
              "      <td>10/20/2020</td>\n",
              "      <td>2020</td>\n",
              "      <td>1</td>\n",
              "      <td>&lt;18 years</td>\n",
              "      <td>Male (M)</td>\n",
              "      <td>0</td>\n",
              "      <td>3</td>\n",
              "      <td>3</td>\n",
              "      <td>0</td>\n",
              "      <td>0</td>\n",
              "      <td>0</td>\n",
              "      <td>0</td>\n",
              "      <td>0</td>\n",
              "      <td>0</td>\n",
              "      <td>0</td>\n",
              "      <td>0</td>\n",
              "    </tr>\n",
              "    <tr>\n",
              "      <th>2</th>\n",
              "      <td>10/20/2020</td>\n",
              "      <td>2020</td>\n",
              "      <td>1</td>\n",
              "      <td>18-29 years</td>\n",
              "      <td>Female (F)</td>\n",
              "      <td>0</td>\n",
              "      <td>20</td>\n",
              "      <td>36</td>\n",
              "      <td>0</td>\n",
              "      <td>0</td>\n",
              "      <td>0</td>\n",
              "      <td>0</td>\n",
              "      <td>0</td>\n",
              "      <td>0</td>\n",
              "      <td>0</td>\n",
              "      <td>0</td>\n",
              "    </tr>\n",
              "    <tr>\n",
              "      <th>3</th>\n",
              "      <td>10/20/2020</td>\n",
              "      <td>2020</td>\n",
              "      <td>1</td>\n",
              "      <td>18-29 years</td>\n",
              "      <td>Male (M)</td>\n",
              "      <td>0</td>\n",
              "      <td>44</td>\n",
              "      <td>65</td>\n",
              "      <td>0</td>\n",
              "      <td>0</td>\n",
              "      <td>0</td>\n",
              "      <td>0</td>\n",
              "      <td>0</td>\n",
              "      <td>0</td>\n",
              "      <td>0</td>\n",
              "      <td>0</td>\n",
              "    </tr>\n",
              "    <tr>\n",
              "      <th>4</th>\n",
              "      <td>10/20/2020</td>\n",
              "      <td>2020</td>\n",
              "      <td>1</td>\n",
              "      <td>30-39 years</td>\n",
              "      <td>Female (F)</td>\n",
              "      <td>0</td>\n",
              "      <td>53</td>\n",
              "      <td>104</td>\n",
              "      <td>0</td>\n",
              "      <td>0</td>\n",
              "      <td>0</td>\n",
              "      <td>0</td>\n",
              "      <td>0</td>\n",
              "      <td>0</td>\n",
              "      <td>0</td>\n",
              "      <td>0</td>\n",
              "    </tr>\n",
              "    <tr>\n",
              "      <th>5</th>\n",
              "      <td>10/20/2020</td>\n",
              "      <td>2020</td>\n",
              "      <td>1</td>\n",
              "      <td>30-39 years</td>\n",
              "      <td>Male (M)</td>\n",
              "      <td>0</td>\n",
              "      <td>79</td>\n",
              "      <td>161</td>\n",
              "      <td>0</td>\n",
              "      <td>0</td>\n",
              "      <td>0</td>\n",
              "      <td>0</td>\n",
              "      <td>0</td>\n",
              "      <td>0</td>\n",
              "      <td>0</td>\n",
              "      <td>0</td>\n",
              "    </tr>\n",
              "    <tr>\n",
              "      <th>6</th>\n",
              "      <td>10/20/2020</td>\n",
              "      <td>2020</td>\n",
              "      <td>1</td>\n",
              "      <td>40-49 years</td>\n",
              "      <td>Female (F)</td>\n",
              "      <td>0</td>\n",
              "      <td>148</td>\n",
              "      <td>326</td>\n",
              "      <td>0</td>\n",
              "      <td>0</td>\n",
              "      <td>0</td>\n",
              "      <td>0</td>\n",
              "      <td>0</td>\n",
              "      <td>0</td>\n",
              "      <td>0</td>\n",
              "      <td>0</td>\n",
              "    </tr>\n",
              "    <tr>\n",
              "      <th>7</th>\n",
              "      <td>10/20/2020</td>\n",
              "      <td>2020</td>\n",
              "      <td>1</td>\n",
              "      <td>40-49 years</td>\n",
              "      <td>Male (M)</td>\n",
              "      <td>0</td>\n",
              "      <td>261</td>\n",
              "      <td>535</td>\n",
              "      <td>0</td>\n",
              "      <td>0</td>\n",
              "      <td>0</td>\n",
              "      <td>0</td>\n",
              "      <td>0</td>\n",
              "      <td>0</td>\n",
              "      <td>0</td>\n",
              "      <td>0</td>\n",
              "    </tr>\n",
              "    <tr>\n",
              "      <th>8</th>\n",
              "      <td>10/20/2020</td>\n",
              "      <td>2020</td>\n",
              "      <td>1</td>\n",
              "      <td>50-59 years</td>\n",
              "      <td>Female (F)</td>\n",
              "      <td>1</td>\n",
              "      <td>365</td>\n",
              "      <td>969</td>\n",
              "      <td>0</td>\n",
              "      <td>0</td>\n",
              "      <td>0</td>\n",
              "      <td>0</td>\n",
              "      <td>0</td>\n",
              "      <td>0</td>\n",
              "      <td>0</td>\n",
              "      <td>1</td>\n",
              "    </tr>\n",
              "    <tr>\n",
              "      <th>9</th>\n",
              "      <td>10/20/2020</td>\n",
              "      <td>2020</td>\n",
              "      <td>1</td>\n",
              "      <td>50-59 years</td>\n",
              "      <td>Male (M)</td>\n",
              "      <td>0</td>\n",
              "      <td>620</td>\n",
              "      <td>1669</td>\n",
              "      <td>0</td>\n",
              "      <td>0</td>\n",
              "      <td>0</td>\n",
              "      <td>0</td>\n",
              "      <td>0</td>\n",
              "      <td>0</td>\n",
              "      <td>0</td>\n",
              "      <td>0</td>\n",
              "    </tr>\n",
              "    <tr>\n",
              "      <th>10</th>\n",
              "      <td>10/20/2020</td>\n",
              "      <td>2020</td>\n",
              "      <td>1</td>\n",
              "      <td>50-64 years</td>\n",
              "      <td>Female (F)</td>\n",
              "      <td>1</td>\n",
              "      <td>671</td>\n",
              "      <td>1856</td>\n",
              "      <td>0</td>\n",
              "      <td>0</td>\n",
              "      <td>0</td>\n",
              "      <td>0</td>\n",
              "      <td>0</td>\n",
              "      <td>0</td>\n",
              "      <td>0</td>\n",
              "      <td>1</td>\n",
              "    </tr>\n",
              "    <tr>\n",
              "      <th>11</th>\n",
              "      <td>10/20/2020</td>\n",
              "      <td>2020</td>\n",
              "      <td>1</td>\n",
              "      <td>50-64 years</td>\n",
              "      <td>Male (M)</td>\n",
              "      <td>0</td>\n",
              "      <td>1129</td>\n",
              "      <td>3156</td>\n",
              "      <td>0</td>\n",
              "      <td>0</td>\n",
              "      <td>0</td>\n",
              "      <td>0</td>\n",
              "      <td>0</td>\n",
              "      <td>0</td>\n",
              "      <td>0</td>\n",
              "      <td>0</td>\n",
              "    </tr>\n",
              "    <tr>\n",
              "      <th>12</th>\n",
              "      <td>10/20/2020</td>\n",
              "      <td>2020</td>\n",
              "      <td>1</td>\n",
              "      <td>60-69 years</td>\n",
              "      <td>Female (F)</td>\n",
              "      <td>0</td>\n",
              "      <td>733</td>\n",
              "      <td>2120</td>\n",
              "      <td>0</td>\n",
              "      <td>0</td>\n",
              "      <td>0</td>\n",
              "      <td>0</td>\n",
              "      <td>0</td>\n",
              "      <td>0</td>\n",
              "      <td>0</td>\n",
              "      <td>0</td>\n",
              "    </tr>\n",
              "    <tr>\n",
              "      <th>13</th>\n",
              "      <td>10/20/2020</td>\n",
              "      <td>2020</td>\n",
              "      <td>1</td>\n",
              "      <td>60-69 years</td>\n",
              "      <td>Male (M)</td>\n",
              "      <td>1</td>\n",
              "      <td>1130</td>\n",
              "      <td>3374</td>\n",
              "      <td>0</td>\n",
              "      <td>0</td>\n",
              "      <td>0</td>\n",
              "      <td>0</td>\n",
              "      <td>0</td>\n",
              "      <td>0</td>\n",
              "      <td>0</td>\n",
              "      <td>0</td>\n",
              "    </tr>\n",
              "    <tr>\n",
              "      <th>14</th>\n",
              "      <td>10/20/2020</td>\n",
              "      <td>2020</td>\n",
              "      <td>1</td>\n",
              "      <td>65-74 years</td>\n",
              "      <td>Female (F)</td>\n",
              "      <td>2</td>\n",
              "      <td>918</td>\n",
              "      <td>2798</td>\n",
              "      <td>0</td>\n",
              "      <td>0</td>\n",
              "      <td>1</td>\n",
              "      <td>1</td>\n",
              "      <td>0</td>\n",
              "      <td>0</td>\n",
              "      <td>0</td>\n",
              "      <td>0</td>\n",
              "    </tr>\n",
              "    <tr>\n",
              "      <th>15</th>\n",
              "      <td>10/20/2020</td>\n",
              "      <td>2020</td>\n",
              "      <td>1</td>\n",
              "      <td>65-74 years</td>\n",
              "      <td>Male (M)</td>\n",
              "      <td>1</td>\n",
              "      <td>1334</td>\n",
              "      <td>4177</td>\n",
              "      <td>0</td>\n",
              "      <td>0</td>\n",
              "      <td>0</td>\n",
              "      <td>0</td>\n",
              "      <td>0</td>\n",
              "      <td>0</td>\n",
              "      <td>0</td>\n",
              "      <td>0</td>\n",
              "    </tr>\n",
              "    <tr>\n",
              "      <th>16</th>\n",
              "      <td>10/20/2020</td>\n",
              "      <td>2020</td>\n",
              "      <td>1</td>\n",
              "      <td>70-79 years</td>\n",
              "      <td>Female (F)</td>\n",
              "      <td>2</td>\n",
              "      <td>971</td>\n",
              "      <td>3188</td>\n",
              "      <td>0</td>\n",
              "      <td>0</td>\n",
              "      <td>1</td>\n",
              "      <td>1</td>\n",
              "      <td>0</td>\n",
              "      <td>0</td>\n",
              "      <td>0</td>\n",
              "      <td>0</td>\n",
              "    </tr>\n",
              "    <tr>\n",
              "      <th>17</th>\n",
              "      <td>10/20/2020</td>\n",
              "      <td>2020</td>\n",
              "      <td>1</td>\n",
              "      <td>70-79 years</td>\n",
              "      <td>Male (M)</td>\n",
              "      <td>0</td>\n",
              "      <td>1316</td>\n",
              "      <td>4526</td>\n",
              "      <td>0</td>\n",
              "      <td>0</td>\n",
              "      <td>0</td>\n",
              "      <td>0</td>\n",
              "      <td>0</td>\n",
              "      <td>0</td>\n",
              "      <td>0</td>\n",
              "      <td>0</td>\n",
              "    </tr>\n",
              "    <tr>\n",
              "      <th>18</th>\n",
              "      <td>10/20/2020</td>\n",
              "      <td>2020</td>\n",
              "      <td>1</td>\n",
              "      <td>75-84 years</td>\n",
              "      <td>Female (F)</td>\n",
              "      <td>1</td>\n",
              "      <td>993</td>\n",
              "      <td>3328</td>\n",
              "      <td>0</td>\n",
              "      <td>0</td>\n",
              "      <td>0</td>\n",
              "      <td>0</td>\n",
              "      <td>0</td>\n",
              "      <td>0</td>\n",
              "      <td>0</td>\n",
              "      <td>0</td>\n",
              "    </tr>\n",
              "    <tr>\n",
              "      <th>19</th>\n",
              "      <td>10/20/2020</td>\n",
              "      <td>2020</td>\n",
              "      <td>1</td>\n",
              "      <td>75-84 years</td>\n",
              "      <td>Male (M)</td>\n",
              "      <td>0</td>\n",
              "      <td>1173</td>\n",
              "      <td>4295</td>\n",
              "      <td>0</td>\n",
              "      <td>0</td>\n",
              "      <td>0</td>\n",
              "      <td>0</td>\n",
              "      <td>0</td>\n",
              "      <td>0</td>\n",
              "      <td>0</td>\n",
              "      <td>0</td>\n",
              "    </tr>\n",
              "    <tr>\n",
              "      <th>20</th>\n",
              "      <td>10/20/2020</td>\n",
              "      <td>2020</td>\n",
              "      <td>1</td>\n",
              "      <td>80+ years</td>\n",
              "      <td>Female (F)</td>\n",
              "      <td>2</td>\n",
              "      <td>1440</td>\n",
              "      <td>5112</td>\n",
              "      <td>0</td>\n",
              "      <td>0</td>\n",
              "      <td>0</td>\n",
              "      <td>0</td>\n",
              "      <td>1</td>\n",
              "      <td>0</td>\n",
              "      <td>0</td>\n",
              "      <td>0</td>\n",
              "    </tr>\n",
              "    <tr>\n",
              "      <th>21</th>\n",
              "      <td>10/20/2020</td>\n",
              "      <td>2020</td>\n",
              "      <td>1</td>\n",
              "      <td>80+ years</td>\n",
              "      <td>Male (M)</td>\n",
              "      <td>1</td>\n",
              "      <td>1289</td>\n",
              "      <td>4856</td>\n",
              "      <td>0</td>\n",
              "      <td>1</td>\n",
              "      <td>1</td>\n",
              "      <td>1</td>\n",
              "      <td>1</td>\n",
              "      <td>0</td>\n",
              "      <td>0</td>\n",
              "      <td>0</td>\n",
              "    </tr>\n",
              "    <tr>\n",
              "      <th>22</th>\n",
              "      <td>10/20/2020</td>\n",
              "      <td>2020</td>\n",
              "      <td>1</td>\n",
              "      <td>85+ years</td>\n",
              "      <td>Female (F)</td>\n",
              "      <td>1</td>\n",
              "      <td>927</td>\n",
              "      <td>3407</td>\n",
              "      <td>0</td>\n",
              "      <td>0</td>\n",
              "      <td>0</td>\n",
              "      <td>0</td>\n",
              "      <td>1</td>\n",
              "      <td>0</td>\n",
              "      <td>0</td>\n",
              "      <td>0</td>\n",
              "    </tr>\n",
              "    <tr>\n",
              "      <th>23</th>\n",
              "      <td>10/20/2020</td>\n",
              "      <td>2020</td>\n",
              "      <td>1</td>\n",
              "      <td>85+ years</td>\n",
              "      <td>Male (M)</td>\n",
              "      <td>1</td>\n",
              "      <td>719</td>\n",
              "      <td>2797</td>\n",
              "      <td>0</td>\n",
              "      <td>1</td>\n",
              "      <td>1</td>\n",
              "      <td>1</td>\n",
              "      <td>1</td>\n",
              "      <td>0</td>\n",
              "      <td>0</td>\n",
              "      <td>0</td>\n",
              "    </tr>\n",
              "    <tr>\n",
              "      <th>24</th>\n",
              "      <td>10/20/2020</td>\n",
              "      <td>2020</td>\n",
              "      <td>1</td>\n",
              "      <td>Unknown age</td>\n",
              "      <td>Female (F)</td>\n",
              "      <td>0</td>\n",
              "      <td>0</td>\n",
              "      <td>1</td>\n",
              "      <td>0</td>\n",
              "      <td>0</td>\n",
              "      <td>0</td>\n",
              "      <td>0</td>\n",
              "      <td>0</td>\n",
              "      <td>0</td>\n",
              "      <td>0</td>\n",
              "      <td>0</td>\n",
              "    </tr>\n",
              "    <tr>\n",
              "      <th>25</th>\n",
              "      <td>10/20/2020</td>\n",
              "      <td>2020</td>\n",
              "      <td>1</td>\n",
              "      <td>Unknown age</td>\n",
              "      <td>Male (M)</td>\n",
              "      <td>0</td>\n",
              "      <td>0</td>\n",
              "      <td>1</td>\n",
              "      <td>0</td>\n",
              "      <td>0</td>\n",
              "      <td>0</td>\n",
              "      <td>0</td>\n",
              "      <td>0</td>\n",
              "      <td>0</td>\n",
              "      <td>0</td>\n",
              "      <td>0</td>\n",
              "    </tr>\n",
              "    <tr>\n",
              "      <th>26</th>\n",
              "      <td>10/20/2020</td>\n",
              "      <td>2020</td>\n",
              "      <td>2</td>\n",
              "      <td>&lt;18 years</td>\n",
              "      <td>Female (F)</td>\n",
              "      <td>0</td>\n",
              "      <td>4</td>\n",
              "      <td>6</td>\n",
              "      <td>0</td>\n",
              "      <td>0</td>\n",
              "      <td>0</td>\n",
              "      <td>0</td>\n",
              "      <td>0</td>\n",
              "      <td>0</td>\n",
              "      <td>0</td>\n",
              "      <td>0</td>\n",
              "    </tr>\n",
              "    <tr>\n",
              "      <th>27</th>\n",
              "      <td>10/20/2020</td>\n",
              "      <td>2020</td>\n",
              "      <td>2</td>\n",
              "      <td>&lt;18 years</td>\n",
              "      <td>Male (M)</td>\n",
              "      <td>0</td>\n",
              "      <td>2</td>\n",
              "      <td>3</td>\n",
              "      <td>0</td>\n",
              "      <td>0</td>\n",
              "      <td>0</td>\n",
              "      <td>0</td>\n",
              "      <td>0</td>\n",
              "      <td>0</td>\n",
              "      <td>0</td>\n",
              "      <td>0</td>\n",
              "    </tr>\n",
              "    <tr>\n",
              "      <th>28</th>\n",
              "      <td>10/20/2020</td>\n",
              "      <td>2020</td>\n",
              "      <td>2</td>\n",
              "      <td>18-29 years</td>\n",
              "      <td>Female (F)</td>\n",
              "      <td>0</td>\n",
              "      <td>22</td>\n",
              "      <td>37</td>\n",
              "      <td>0</td>\n",
              "      <td>0</td>\n",
              "      <td>0</td>\n",
              "      <td>0</td>\n",
              "      <td>0</td>\n",
              "      <td>0</td>\n",
              "      <td>0</td>\n",
              "      <td>0</td>\n",
              "    </tr>\n",
              "    <tr>\n",
              "      <th>29</th>\n",
              "      <td>10/20/2020</td>\n",
              "      <td>2020</td>\n",
              "      <td>2</td>\n",
              "      <td>18-29 years</td>\n",
              "      <td>Male (M)</td>\n",
              "      <td>0</td>\n",
              "      <td>29</td>\n",
              "      <td>49</td>\n",
              "      <td>0</td>\n",
              "      <td>0</td>\n",
              "      <td>0</td>\n",
              "      <td>0</td>\n",
              "      <td>0</td>\n",
              "      <td>0</td>\n",
              "      <td>0</td>\n",
              "      <td>0</td>\n",
              "    </tr>\n",
              "  </tbody>\n",
              "</table>\n",
              "</div>"
            ],
            "text/plain": [
              "    Data as of  ...  C19PlusObesity\n",
              "0   10/20/2020  ...               0\n",
              "1   10/20/2020  ...               0\n",
              "2   10/20/2020  ...               0\n",
              "3   10/20/2020  ...               0\n",
              "4   10/20/2020  ...               0\n",
              "5   10/20/2020  ...               0\n",
              "6   10/20/2020  ...               0\n",
              "7   10/20/2020  ...               0\n",
              "8   10/20/2020  ...               1\n",
              "9   10/20/2020  ...               0\n",
              "10  10/20/2020  ...               1\n",
              "11  10/20/2020  ...               0\n",
              "12  10/20/2020  ...               0\n",
              "13  10/20/2020  ...               0\n",
              "14  10/20/2020  ...               0\n",
              "15  10/20/2020  ...               0\n",
              "16  10/20/2020  ...               0\n",
              "17  10/20/2020  ...               0\n",
              "18  10/20/2020  ...               0\n",
              "19  10/20/2020  ...               0\n",
              "20  10/20/2020  ...               0\n",
              "21  10/20/2020  ...               0\n",
              "22  10/20/2020  ...               0\n",
              "23  10/20/2020  ...               0\n",
              "24  10/20/2020  ...               0\n",
              "25  10/20/2020  ...               0\n",
              "26  10/20/2020  ...               0\n",
              "27  10/20/2020  ...               0\n",
              "28  10/20/2020  ...               0\n",
              "29  10/20/2020  ...               0\n",
              "\n",
              "[30 rows x 16 columns]"
            ]
          },
          "metadata": {},
          "execution_count": 5
        }
      ]
    },
    {
      "cell_type": "code",
      "metadata": {
        "id": "NS_UlUEP5RJp"
      },
      "source": [
        "print(df1.shape)\n",
        "print(type(df1))"
      ],
      "execution_count": null,
      "outputs": []
    },
    {
      "cell_type": "code",
      "metadata": {
        "id": "XIKh7n895bdk"
      },
      "source": [
        "print(df1.duplicated())  # Find duplicated rows"
      ],
      "execution_count": null,
      "outputs": []
    },
    {
      "cell_type": "code",
      "metadata": {
        "id": "nlhAq7s65nlZ"
      },
      "source": [
        "df1.columns = df1.columns.str.lower()  # makes columns labels as a lower case"
      ],
      "execution_count": null,
      "outputs": []
    },
    {
      "cell_type": "code",
      "metadata": {
        "id": "flJA4tQ35g-7"
      },
      "source": [
        "df1.columns = df1.columns.str.replace(' ', '_')  # replace ' ' in columns names to '_'\n",
        "df1.columns = df1.columns.str.replace('.', '_')"
      ],
      "execution_count": null,
      "outputs": []
    },
    {
      "cell_type": "code",
      "metadata": {
        "id": "0P9WSACI5v6p"
      },
      "source": [
        "df1 = df1.rename(columns = {'data_as_of':'date', 'date_of_death_year' : 'death_year', 'date_of_death_month' : 'death_month',\n",
        "                            'c19plusdiabetes' : 'c19_diabates', 'c19plushypertensivediseases' : 'c19_hypertensive', 'c19plusmajorcardiovasculardiseases' :\n",
        "                            'c19_cardio_vascular', 'c19plushypertensivediseasesandmcvd' : 'c19_hypertensive_mcvd', 'c19pluschroniclowerrespiratorydisease' :\n",
        "                            'c19_lower_respiratory', 'c19pluskidneydisease' : 'c19_kidney' , \n",
        "                            'c19pluschronicliverdiseaseandcirrhosis' : 'c19_liver_cirrhosis' \n",
        "                            ,'c19plusobesity' : 'c19_obesity'})  # rename each label\n",
        "                            \n",
        "df1.head(1)              "
      ],
      "execution_count": null,
      "outputs": []
    },
    {
      "cell_type": "code",
      "metadata": {
        "id": "cBcLNKjo51L2"
      },
      "source": [
        "import re\n",
        "df1.columns = pd.Series(df1.columns).apply(lambda x: re.sub(r\"[(|)| |,]\", \"_\", x))"
      ],
      "execution_count": null,
      "outputs": []
    },
    {
      "cell_type": "code",
      "metadata": {
        "id": "2kpeyMRA55O3"
      },
      "source": [
        "df1.isnull().values.any()  # If there are NaN values, it returns True else False. \n",
        "df1[df1.isnull().any(axis=1)]\n",
        "df1[df1['agegroup'].isna()]  # Get all rows with missing values in a specific column \n",
        "df1.dropna(inplace=True) # to drop all rows which have any field having a null or missing value\n",
        "df1.dropna(subset=[\"agegroup\"], inplace=True)\n",
        "df1.fillna(0, inplace=True)  # to fill all missing values with a default value(default value in here is zero)"
      ],
      "execution_count": null,
      "outputs": []
    },
    {
      "cell_type": "code",
      "metadata": {
        "id": "6EJf6lI_59Lm"
      },
      "source": [
        "#Data Cleaning - remove \"death year and date #\"\n",
        "df1.drop(['death_year', 'date'],axis=1,inplace=True)\n",
        "df1.info()"
      ],
      "execution_count": null,
      "outputs": []
    },
    {
      "cell_type": "code",
      "metadata": {
        "id": "1yiCa_Uc6A07"
      },
      "source": [
        "# Get Unique Values:\n",
        "print(df1['agegroup'].unique())  # **\n",
        "print(df1['sex'].unique())\n",
        "print(df1['death_month'].unique())\n",
        "print(df1['c19_diabates'].unique())"
      ],
      "execution_count": null,
      "outputs": []
    },
    {
      "cell_type": "code",
      "metadata": {
        "id": "qwwLN1N96HEE"
      },
      "source": [
        "# to get the index and complete records of both the maximum and minimum of a column:\n",
        "df1.loc[[df1.c19_diabates.idxmax(), df1.c19_diabates.idxmin()]]"
      ],
      "execution_count": null,
      "outputs": []
    },
    {
      "cell_type": "code",
      "metadata": {
        "id": "t79awFeZ6MDY"
      },
      "source": [
        "# Filter Values:\n",
        "#df1[df1.death_month.between(1,2)]\n",
        "\n",
        "# to filter values in a categorical column:\n",
        "print(df1[df1.sex.isin(['Female (F)'])]) # [112 rows x 16 columns]\n",
        "print(df1[df1.agegroup.isin(['30-39 years'])]) # [18 rows x 16 columns]\n",
        "df1[~df1.agegroup.isin(['30-39 years'])]  # [207 rows × 16 columns]"
      ],
      "execution_count": null,
      "outputs": []
    },
    {
      "cell_type": "code",
      "metadata": {
        "id": "mRSuV_wf6Tgr"
      },
      "source": [
        "# Join seperate queries with logical OR/ANd operators:\n",
        "df = df1[\n",
        "        (df1.agegroup < '50-59years')\n",
        "        & (df1.covid19 == 1)\n",
        "        ]\n",
        "print(df)  # [2 rows x 16 columns]\n",
        "\n",
        "\n",
        "print(df1['agegroup'].unique())\n",
        "total_rows = df1[\n",
        "        ((df1.agegroup < '18')  | (df1.agegroup > '80'))\n",
        "        & (df1.covid19 == 1)\n",
        "        ].shape[0]\n",
        "print(total_rows)\n",
        "\n",
        "total_rows = df1[\n",
        "        ((df1.agegroup < '18')  | (df1.agegroup > '60'))\n",
        "        & (df1.c19_diabates == 1)\n",
        "        ].shape[0]\n",
        "print(total_rows)"
      ],
      "execution_count": null,
      "outputs": []
    },
    {
      "cell_type": "code",
      "metadata": {
        "id": "FD0uD5V06Z04"
      },
      "source": [
        "groups = df1.groupby(['agegroup'])  # groups rows that have the same values into summary rows\n",
        "print(type(groups))\n",
        "print(groups.size())  # Unknown age: 9\n",
        "print(groups)\n",
        "groups = df1.groupby(['death_month']) \n",
        "print(groups.size())\n",
        "groups = df1.groupby(['c19_kidney']) \n",
        "print(groups.size())\n",
        "groups = df1.groupby(['c19_diabates']) \n",
        "print(groups.size())\n",
        "groups = df1.groupby(['agegroup', 'sex'])\n",
        "print(groups.size())\n",
        "groups = df1.groupby(['death_month', 'covid19'])\n",
        "print(groups.size())"
      ],
      "execution_count": null,
      "outputs": []
    },
    {
      "cell_type": "code",
      "metadata": {
        "id": "a6BS6PKj6feE"
      },
      "source": [
        "# Segmentation : to converte a continuous numerical data to a categorical data ready for deeper analysis.\n",
        "segments = [-1, 5, 7, 9]\n",
        "labels = ['lower', 'low', 'high']\n",
        "age_group = pd.cut(df1.death_month, segments, labels=labels)\n",
        "\n",
        "df1.head(5)"
      ],
      "execution_count": null,
      "outputs": []
    },
    {
      "cell_type": "code",
      "metadata": {
        "colab": {
          "base_uri": "https://localhost:8080/",
          "height": 1000
        },
        "id": "2U3Nmug79nxj",
        "outputId": "585b71d6-3b50-4529-f029-84e604433ea5"
      },
      "source": [
        "# plot a histogram of agegroup labels:\n",
        "# In order to work on initial dataframe(df1), call it for the second time and renames it as df2\n",
        "# Set index on a Dataframe\n",
        "import numpy as np\n",
        "import pandas as pd\n",
        "import matplotlib as mpl\n",
        "import seaborn as sb\n",
        "df2 = pd.read_csv(\"https://storage.googleapis.com/files.mobibootcamp.com/2021-datasets/AH_Provisional_Diabetes_Death_Counts_for_2020.csv\")\n",
        "df2.info()\n",
        "df2 = df2.rename(columns = {'data_as_of':'date', 'date_of_death_year' : 'death_year', 'date_of_death_month' : 'death_month',\n",
        "                            'c19plusdiabetes' : 'c19_diabates', 'c19plushypertensivediseases' : 'c19_hypertensive', 'c19plusmajorcardiovasculardiseases' :\n",
        "                            'c19_cardio_vascular', 'c19plushypertensivediseasesandmcvd' : 'c19_hypertensive_mcvd', 'c19pluschroniclowerrespiratorydisease' :\n",
        "                            'c19_lower_respiratory', 'c19pluskidneydisease' : 'c19_kidney' , \n",
        "                            'c19pluschronicliverdiseaseandcirrhosis' : 'c19_liver_cirrhosis' \n",
        "                            ,'c19plusobesity' : 'c19_obesity'})  # rename each label\n",
        "                            \n",
        "df2.head(1)  \n",
        "\n",
        "\n",
        "df2.set_index(\"AgeGroup\", \n",
        "              inplace = True)\n",
        "df2.head(5)\n",
        "\n",
        "\n",
        "result = df2.loc[[\"<18 years\", \"18-29 years\", \"30-39 years\", \"40-49 years\", \"60-69 years\", \"70-79 years\", \"80+ years\"]] # create a new dataframe\n",
        "print(result)\n",
        "\n",
        "result['new'] = 0 # add a new column wit zero values to df2 dataframe\n",
        "result.head(5)\n",
        "index = result.index  # how to get index of pandas dataframe\n",
        "print(index)\n",
        "print(type(index))\n",
        "result[\"new\"] =index  # assign index column to new column\n",
        "result.head(5)\n",
        "\n",
        "\n",
        "# to plot the frequency of a new column with agegroup labels:\n",
        "import matplotlib.pyplot as plt\n",
        "%matplotlib inline\n",
        "plt.figure(figsize=(10, 8))\n",
        "plt.hist(result.new.dropna(), rwidth = 0.3)  # histogram plot syntax\n",
        "plt.title('Age Groups Distribution')\n",
        "plt.xlabel(\"age group\")\n",
        "plt.ylabel(\"# of people (frequency)\")\n",
        "plt.show()"
      ],
      "execution_count": null,
      "outputs": [
        {
          "output_type": "stream",
          "name": "stdout",
          "text": [
            "<class 'pandas.core.frame.DataFrame'>\n",
            "RangeIndex: 226 entries, 0 to 225\n",
            "Data columns (total 16 columns):\n",
            " #   Column                                  Non-Null Count  Dtype \n",
            "---  ------                                  --------------  ----- \n",
            " 0   Data as of                              226 non-null    object\n",
            " 1   Date_Of_Death_Year                      226 non-null    int64 \n",
            " 2   Date_Of_Death_Month                     226 non-null    int64 \n",
            " 3   AgeGroup                                225 non-null    object\n",
            " 4   Sex                                     226 non-null    object\n",
            " 5   COVID19                                 226 non-null    int64 \n",
            " 6   Diabetes.uc                             226 non-null    int64 \n",
            " 7   Diabetes.mc                             226 non-null    int64 \n",
            " 8   C19PlusDiabetes                         226 non-null    int64 \n",
            " 9   C19PlusHypertensiveDiseases             226 non-null    int64 \n",
            " 10  C19PlusMajorCardiovascularDiseases      226 non-null    int64 \n",
            " 11  C19PlusHypertensiveDiseasesAndMCVD      226 non-null    int64 \n",
            " 12  C19PlusChronicLowerRespiratoryDisease   226 non-null    int64 \n",
            " 13  C19PlusKidneyDisease                    226 non-null    int64 \n",
            " 14  C19PlusChronicLiverDiseaseAndCirrhosis  226 non-null    int64 \n",
            " 15  C19PlusObesity                          226 non-null    int64 \n",
            "dtypes: int64(13), object(3)\n",
            "memory usage: 28.4+ KB\n",
            "           Data as of  ...  C19PlusObesity\n",
            "AgeGroup               ...                \n",
            "<18 years  10/20/2020  ...               0\n",
            "<18 years  10/20/2020  ...               0\n",
            "<18 years  10/20/2020  ...               0\n",
            "<18 years  10/20/2020  ...               0\n",
            "<18 years  10/20/2020  ...               0\n",
            "...               ...  ...             ...\n",
            "80+ years  10/20/2020  ...              50\n",
            "80+ years  10/20/2020  ...              76\n",
            "80+ years  10/20/2020  ...              35\n",
            "80+ years  10/20/2020  ...              31\n",
            "80+ years  10/20/2020  ...              16\n",
            "\n",
            "[126 rows x 15 columns]\n",
            "Index(['<18 years', '<18 years', '<18 years', '<18 years', '<18 years',\n",
            "       '<18 years', '<18 years', '<18 years', '<18 years', '<18 years',\n",
            "       ...\n",
            "       '80+ years', '80+ years', '80+ years', '80+ years', '80+ years',\n",
            "       '80+ years', '80+ years', '80+ years', '80+ years', '80+ years'],\n",
            "      dtype='object', name='AgeGroup', length=126)\n",
            "<class 'pandas.core.indexes.base.Index'>\n"
          ]
        },
        {
          "output_type": "display_data",
          "data": {
            "image/png": "[encoded data removed]",
            "text/plain": [
              "<Figure size 720x576 with 1 Axes>"
            ]
          },
          "metadata": {
            "needs_background": "light"
          }
        }
      ]
    },
    {
      "cell_type": "markdown",
      "metadata": {
        "id": "PVhC4q_o-z8Q"
      },
      "source": [
        "In the above plot, we see the distribution of people with different age groups. Some of the age groups were not included in the above bar chart such as: 50-64/ 75-84/ older than 80. This is because these intervals had ovelap with above intervals. As we see from the above plot, all intervals have a unique distribution equals to 18."
      ]
    },
    {
      "cell_type": "code",
      "metadata": {
        "colab": {
          "base_uri": "https://localhost:8080/",
          "height": 640
        },
        "id": "3nVU3ca4-1gF",
        "outputId": "69d9863c-f703-4b91-c5c3-59d1ff72136d"
      },
      "source": [
        "import seaborn as sns\n",
        "plt.figure(figsize=(20, 10))\n",
        "sns.barplot(x=\"death_month\", y=\"covid19\", hue=\"sex\", \n",
        "            data=df1).set_title(\"Monthly Covid19 Deaths\")"
      ],
      "execution_count": null,
      "outputs": [
        {
          "output_type": "execute_result",
          "data": {
            "text/plain": [
              "Text(0.5, 1.0, 'Monthly Covid19 Deaths')"
            ]
          },
          "metadata": {},
          "execution_count": 47
        },
        {
          "output_type": "display_data",
          "data": {
            "image/png": "[encoded data removed]",
            "text/plain": [
              "<Figure size 1440x720 with 1 Axes>"
            ]
          },
          "metadata": {
            "needs_background": "light"
          }
        }
      ]
    },
    {
      "cell_type": "markdown",
      "metadata": {
        "id": "uRkNvn-1-5P9"
      },
      "source": [
        "We note from the chart that in all the months except May which covid19 infection was not zero, females had more covid19 cases. Their condition in each month compared to males had more numbers. Females and males in 4th month had a higher number of covid19 infection compared to other months."
      ]
    },
    {
      "cell_type": "code",
      "metadata": {
        "colab": {
          "base_uri": "https://localhost:8080/",
          "height": 826
        },
        "id": "dlo1Vj7b-9U4",
        "outputId": "d44e101f-69b7-4df7-db1e-267d17344401"
      },
      "source": [
        "#plt.figure(figsize = (15,8))\n",
        "#corr = pd.DataFrame(df1).corr()\n",
        "#sns.heatmap(corr, vmin=-1, vmax=1, center=0, cmap=sns.diverging_palette(200, 20, n=100))\n",
        "\n",
        "# Use seaborn's heatmap to see a visualization of any correlations. Light = False, Dark = True\n",
        "df2 = df1.drop(columns=[\"death_month\"]) \n",
        "plt.figure(figsize=(12,12))\n",
        "plt.title('Death Counts from diseases in 2020 Heatmap')\n",
        "heatmap = sb.heatmap(df2.corr(),cmap=\"Reds\", annot=True)"
      ],
      "execution_count": null,
      "outputs": [
        {
          "output_type": "display_data",
          "data": {
            "image/png": "[encoded data removed]",
            "text/plain": [
              "<Figure size 864x864 with 2 Axes>"
            ]
          },
          "metadata": {
            "needs_background": "light"
          }
        }
      ]
    },
    {
      "cell_type": "markdown",
      "metadata": {
        "id": "w7EXF8oR_IAN"
      },
      "source": [
        "From the heat map we see that:\n",
        "\n",
        "1)c19_obesity vs c19_liver_cirrhosis - 0.88 2)c19_obesity vs c19_diabates - 0.65 3)diabetes_uc vs diabetes_mc - 0.98 4)diabetes_uc vs c19_diabetes - 0.64 5)diabetes_mc vs c19_diabetes - 0.73 6)c19_diabetes vs c19_ . - 0.98 7)c19_diabetes vs c19_lower_respiratory - 0.93 8)c19_obesity vs c19_liver_cirrhosis - 0.88"
      ]
    },
    {
      "cell_type": "code",
      "metadata": {
        "colab": {
          "base_uri": "https://localhost:8080/",
          "height": 313
        },
        "id": "2CacsJ8M_JnL",
        "outputId": "5a8eab02-997b-4694-85cc-1b74561e284a"
      },
      "source": [
        "plt.title('Scatter plot of diabetes_mc / diabetes_uc')\n",
        "plt.ylabel(\"diabetes_mc\")\n",
        "plt.xlabel(\"diabetes_uc\")\n",
        "plt.scatter(df1.diabetes_uc, df1.diabetes_mc)"
      ],
      "execution_count": null,
      "outputs": [
        {
          "output_type": "execute_result",
          "data": {
            "text/plain": [
              "<matplotlib.collections.PathCollection at 0x7f3907a7f110>"
            ]
          },
          "metadata": {},
          "execution_count": 28
        },
        {
          "output_type": "display_data",
          "data": {
            "image/png": "[encoded data removed]",
            "text/plain": [
              "<Figure size 432x288 with 1 Axes>"
            ]
          },
          "metadata": {
            "needs_background": "light"
          }
        }
      ]
    },
    {
      "cell_type": "markdown",
      "metadata": {
        "id": "JaWHaUgZ_NGd"
      },
      "source": [
        "In order to show the positive correlation between diabetes_uc and diabetes_mc, I plot the scatter plot and as we see, by increasing x, y increases, too. So, they have a positive correlation."
      ]
    },
    {
      "cell_type": "code",
      "metadata": {
        "colab": {
          "base_uri": "https://localhost:8080/",
          "height": 793
        },
        "id": "8M1B2PLt_PJz",
        "outputId": "5f1d338b-351c-40ef-82d6-e9bbbcacc083"
      },
      "source": [
        "import numpy as np\n",
        "import seaborn as sns\n",
        "a = df1[\"c19_obesity\"]\n",
        "#a = np.array([15, 35, 55])\n",
        "a.ndim\n",
        "a.shape\n",
        "a.size\n",
        "a.dtype\n",
        "print(type(a))\n",
        "print(a)\n",
        "\n",
        "print(a.mean())   # Prints the mean of the array elements\n",
        "print(a.max())    # Prints the max value in the array\n",
        "print(a.min())    # Prints the min value in the array\n",
        "print(a.argmin()) # Prints the index number of the min value\n",
        "print(a.std())    # Prints the standard deviation of the array elements\n",
        "\n",
        "\n",
        "b = df1[\"c19_diabates\"]\n",
        "print(b.mean())   # Prints the mean of the array elements\n",
        "print(b.max()) \n",
        "print(a.min()) \n",
        "\n",
        "plt.figure(figsize = (15,8))\n",
        "sns.lmplot(x='c19_obesity', y='c19_diabates', data=df1)\n",
        "plt.title('Linear regression plot of c19_diabates / c19_obesity')\n",
        "\n",
        "#df1.to_numpy()"
      ],
      "execution_count": null,
      "outputs": [
        {
          "output_type": "stream",
          "name": "stdout",
          "text": [
            "<class 'pandas.core.series.Series'>\n",
            "0       0\n",
            "1       0\n",
            "2       0\n",
            "3       0\n",
            "4       0\n",
            "       ..\n",
            "221    52\n",
            "222    31\n",
            "223    16\n",
            "224    16\n",
            "225     4\n",
            "Name: c19_obesity, Length: 225, dtype: int64\n",
            "59.0\n",
            "380\n",
            "0\n",
            "0\n",
            "73.84068274719179\n",
            "282.0488888888889\n",
            "1521\n",
            "0\n"
          ]
        },
        {
          "output_type": "execute_result",
          "data": {
            "text/plain": [
              "Text(0.5, 1.0, 'Scatter plot of diabetes_mc / diabetes_uc')"
            ]
          },
          "metadata": {},
          "execution_count": 48
        },
        {
          "output_type": "display_data",
          "data": {
            "text/plain": [
              "<Figure size 1080x576 with 0 Axes>"
            ]
          },
          "metadata": {}
        },
        {
          "output_type": "display_data",
          "data": {
            "image/png": "[encoded data removed]",
            "text/plain": [
              "<Figure size 360x360 with 1 Axes>"
            ]
          },
          "metadata": {
            "needs_background": "light"
          }
        }
      ]
    },
    {
      "cell_type": "markdown",
      "metadata": {
        "id": "xYBa3LLZ_TJZ"
      },
      "source": [
        "We can see a correlation between c19_diabates and c19_obesity with a regression line. There is all most a positive relationnship between these two variables."
      ]
    },
    {
      "cell_type": "code",
      "metadata": {
        "colab": {
          "base_uri": "https://localhost:8080/",
          "height": 331
        },
        "id": "SsPwhIva_VvP",
        "outputId": "a57160d7-b69f-4453-a6f8-570dd418b073"
      },
      "source": [
        "sns.catplot(x=\"sex\", y=\"c19_diabates\",\n",
        "            data=df1, kind=\"bar\", ci=None,\n",
        "            height=4, aspect=.7)\n",
        "plt.title('sex vs. c19_diabates')"
      ],
      "execution_count": null,
      "outputs": [
        {
          "output_type": "execute_result",
          "data": {
            "text/plain": [
              "Text(0.5, 1.0, 'sex vs. c19_diabates')"
            ]
          },
          "metadata": {},
          "execution_count": 52
        },
        {
          "output_type": "display_data",
          "data": {
            "image/png": "[encoded data removed]",
            "text/plain": [
              "<Figure size 201.6x288 with 1 Axes>"
            ]
          },
          "metadata": {
            "needs_background": "light"
          }
        }
      ]
    },
    {
      "cell_type": "markdown",
      "metadata": {
        "id": "eeDrfkZ1_YaW"
      },
      "source": [
        "We can see from the above plot that whole number of males who had covid19 plus diabates are more than females who had the same diseases."
      ]
    },
    {
      "cell_type": "markdown",
      "metadata": {
        "id": "IMqVlR1c_eyF"
      },
      "source": [
        "Final Result:\n",
        "After taking a look at the correlations and various types of plots, there are clear relationships among many variables. \n",
        "\n",
        "There is a high relationship between:\n",
        "covid19 and chronic lower respiratory disease\n",
        "covid 19 and hypertensive disease\n",
        "diabates and obesity\n",
        "chronic lower respiratory disease and hypertensive diseases\n",
        "\n",
        "As a whole, females had more deaths than males during various months except May.\n",
        "The number of males who had diabates and covid19 was larger than females with similar condition."
      ]
    }
  ]
}